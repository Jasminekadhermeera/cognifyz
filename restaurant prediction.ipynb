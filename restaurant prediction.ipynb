{
 "cells": [
  {
   "cell_type": "code",
   "execution_count": 1,
   "id": "f9c94eea-3a0d-4151-87ea-53838ae61bec",
   "metadata": {},
   "outputs": [
    {
     "name": "stderr",
     "output_type": "stream",
     "text": [
      "C:\\Users\\habee\\anaconda3\\Lib\\site-packages\\pandas\\core\\arrays\\masked.py:60: UserWarning: Pandas requires version '1.3.6' or newer of 'bottleneck' (version '1.3.5' currently installed).\n",
      "  from pandas.core import (\n"
     ]
    }
   ],
   "source": [
    "import pandas as pd\n",
    "import numpy as np\n",
    "from sklearn.model_selection import train_test_split\n",
    "from sklearn.preprocessing import LabelEncoder\n",
    "from sklearn.linear_model import LinearRegression\n",
    "from sklearn.tree import DecisionTreeRegressor\n",
    "from sklearn.metrics import mean_squared_error, r2_score\n",
    "df = pd.read_csv(\"C:/Users/habee/OneDrive/Desktop/Dataset .csv\")\n"
   ]
  },
  {
   "cell_type": "code",
   "execution_count": 3,
   "id": "5c34e45d-70a4-4bbf-9dfa-5d48953c9265",
   "metadata": {},
   "outputs": [],
   "source": [
    "\n",
    "numerical_cols = df.select_dtypes(include=['number']).columns\n",
    "categorical_cols = df.select_dtypes(include=['object']).columns\n"
   ]
  },
  {
   "cell_type": "code",
   "execution_count": 4,
   "id": "50670982-2679-4fa1-9ea7-8530c17c489e",
   "metadata": {},
   "outputs": [],
   "source": [
    "\n",
    "df[numerical_cols] = df[numerical_cols].fillna(df[numerical_cols].mean())\n"
   ]
  },
  {
   "cell_type": "code",
   "execution_count": 5,
   "id": "e7966866-8394-4231-8c7d-361af12b7f0e",
   "metadata": {},
   "outputs": [],
   "source": [
    "\n",
    "df[categorical_cols] = df[categorical_cols].fillna(df[categorical_cols].mode().iloc[0])\n"
   ]
  },
  {
   "cell_type": "code",
   "execution_count": 7,
   "id": "2d06d88b-1234-4e49-93f9-c6f1f96504d9",
   "metadata": {},
   "outputs": [
    {
     "name": "stdout",
     "output_type": "stream",
     "text": [
      "Index(['Restaurant ID', 'Restaurant Name', 'Country Code', 'City', 'Address',\n",
      "       'Locality', 'Locality Verbose', 'Longitude', 'Latitude', 'Cuisines',\n",
      "       'Average Cost for two', 'Currency', 'Has Table booking',\n",
      "       'Has Online delivery', 'Is delivering now', 'Switch to order menu',\n",
      "       'Price range', 'Aggregate rating', 'Rating color', 'Rating text',\n",
      "       'Votes'],\n",
      "      dtype='object')\n"
     ]
    }
   ],
   "source": [
    "print(df.columns)\n"
   ]
  },
  {
   "cell_type": "code",
   "execution_count": 9,
   "id": "cc8ed97c-f8a4-4bad-a735-59a0053e55d4",
   "metadata": {},
   "outputs": [],
   "source": [
    "X = df.drop('Aggregate rating', axis=1)\n",
    "y = df['Aggregate rating']\n"
   ]
  },
  {
   "cell_type": "code",
   "execution_count": 11,
   "id": "de315a45-8015-48d0-bac3-bc8c0649bdf8",
   "metadata": {},
   "outputs": [
    {
     "name": "stdout",
     "output_type": "stream",
     "text": [
      "(7640, 20)\n",
      "(1911, 20)\n"
     ]
    }
   ],
   "source": [
    "from sklearn.model_selection import train_test_split\n",
    "\n",
    "# Step 7: Split the data into training and testing sets\n",
    "X_train, X_test, y_train, y_test = train_test_split(X, y, test_size=0.2, random_state=42)\n",
    "\n",
    "\n",
    "print(X_train.shape)\n",
    "print(X_test.shape)\n"
   ]
  },
  {
   "cell_type": "code",
   "execution_count": 12,
   "id": "f9a9285d-9a9a-4096-9450-279e69b0975f",
   "metadata": {},
   "outputs": [
    {
     "name": "stdout",
     "output_type": "stream",
     "text": [
      "Mean Squared Error: 1.2184842137413732\n",
      "R-squared: 0.4646635029653411\n"
     ]
    }
   ],
   "source": [
    "\n",
    "model = LinearRegression()\n",
    "model.fit(X_train, y_train)\n",
    "\n",
    "\n",
    "y_pred = model.predict(X_test)\n",
    "\n",
    "\n",
    "mse = mean_squared_error(y_test, y_pred)\n",
    "r2 = r2_score(y_test, y_pred)\n",
    "\n",
    "\n",
    "print(f\"Mean Squared Error: {mse}\")\n",
    "print(f\"R-squared: {r2}\")\n"
   ]
  },
  {
   "cell_type": "code",
   "execution_count": 13,
   "id": "9f0231cc-b076-422a-9b50-9d49fb3e9902",
   "metadata": {},
   "outputs": [
    {
     "name": "stdout",
     "output_type": "stream",
     "text": [
      "Model Coefficients (Influential Features):\n",
      "                       Coefficient\n",
      "Restaurant ID        -3.724647e-08\n",
      "Restaurant Name       2.069492e-06\n",
      "Country Code          6.631103e-03\n",
      "City                 -3.127872e-03\n",
      "Address              -2.281195e-05\n",
      "Locality             -3.382577e-04\n",
      "Locality Verbose      4.560551e-05\n",
      "Longitude             9.595983e-04\n",
      "Latitude             -1.386595e-03\n",
      "Cuisines             -2.077046e-04\n",
      "Average Cost for two  1.406282e-06\n",
      "Currency             -9.198256e-02\n",
      "Has Table booking    -5.018033e-03\n",
      "Has Online delivery   6.765522e-01\n",
      "Is delivering now    -3.564370e-02\n",
      "Switch to order menu -1.110223e-16\n",
      "Price range           4.951888e-01\n",
      "Rating color         -1.948349e-01\n",
      "Rating text          -1.985609e-01\n",
      "Votes                 4.845698e-04\n"
     ]
    }
   ],
   "source": [
    "\n",
    "coefficients = pd.DataFrame(model.coef_, X.columns, columns=['Coefficient'])\n",
    "print(\"Model Coefficients (Influential Features):\")\n",
    "print(coefficients)\n"
   ]
  },
  {
   "cell_type": "code",
   "execution_count": 14,
   "id": "2f068343-bc35-4d6a-9d9c-5a667ad80fc2",
   "metadata": {},
   "outputs": [
    {
     "name": "stdout",
     "output_type": "stream",
     "text": [
      "Mean Squared Error: 1.2184842137413732\n",
      "R-squared: 0.4646635029653411\n"
     ]
    }
   ],
   "source": [
    "from sklearn.metrics import mean_squared_error, r2_score\n",
    "\n",
    "\n",
    "y_pred = model.predict(X_test)\n",
    "mse = mean_squared_error(y_test, y_pred)\n",
    "r2 = r2_score(y_test, y_pred)\n",
    "\n",
    "print(f\"Mean Squared Error: {mse}\")\n",
    "print(f\"R-squared: {r2}\")\n"
   ]
  },
  {
   "cell_type": "code",
   "execution_count": 15,
   "id": "4730f944-3dfe-46ee-845b-18e8c63b221d",
   "metadata": {},
   "outputs": [
    {
     "data": {
      "text/plain": [
       "['restaurant_rating_model.pkl']"
      ]
     },
     "execution_count": 15,
     "metadata": {},
     "output_type": "execute_result"
    }
   ],
   "source": [
    "import joblib\n",
    "joblib.dump(model, 'restaurant_rating_model.pkl')\n"
   ]
  },
  {
   "cell_type": "code",
   "execution_count": null,
   "id": "279570fc-984c-4a38-b390-378770a0cc38",
   "metadata": {},
   "outputs": [],
   "source": []
  }
 ],
 "metadata": {
  "kernelspec": {
   "display_name": "Python 3 (ipykernel)",
   "language": "python",
   "name": "python3"
  },
  "language_info": {
   "codemirror_mode": {
    "name": "ipython",
    "version": 3
   },
   "file_extension": ".py",
   "mimetype": "text/x-python",
   "name": "python",
   "nbconvert_exporter": "python",
   "pygments_lexer": "ipython3",
   "version": "3.11.5"
  }
 },
 "nbformat": 4,
 "nbformat_minor": 5
}
